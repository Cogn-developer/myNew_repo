{
 "cells": [
  {
   "cell_type": "markdown",
   "metadata": {},
   "source": [
    "# NumPy\n",
    "\n",
    "numpy is python's package for doing math that is more advanced than +-*/\n",
    "\n",
    "This includes special functions like cosine, exponential, sqrt, ...\n",
    "\n",
    "On top of this we can use numpy to generate samples from many types of random variables\n",
    "\n",
    "numpy also has a powerful data type to define vectors, matrices, and tensors\n",
    "\n",
    "With these data types numpy also allows us to do linear algebra - matrix multiplication and matrix-vector solutions"
   ]
  },
  {
   "cell_type": "code",
   "execution_count": 1,
   "metadata": {},
   "outputs": [],
   "source": [
    "# the first step of using numpy is to tell python to use it\n",
    "import numpy as np"
   ]
  },
  {
   "cell_type": "code",
   "execution_count": 2,
   "metadata": {},
   "outputs": [
    {
     "name": "stdout",
     "output_type": "stream",
     "text": [
      "-1.0\n",
      "1.1\n",
      "5.2\n"
     ]
    }
   ],
   "source": [
    "print(np.cos(np.pi))\n",
    "print(np.sqrt(1.21))\n",
    "print(np.log(np.exp(5.2)))"
   ]
  },
  {
   "cell_type": "code",
   "execution_count": 3,
   "metadata": {},
   "outputs": [
    {
     "name": "stdout",
     "output_type": "stream",
     "text": [
      "[1 2 3]\n",
      "\n",
      "[[1 2 1]\n",
      " [4 5 9]\n",
      " [1 8 9]]\n",
      "\n",
      "[[1 4 1]\n",
      " [2 5 8]\n",
      " [1 9 9]]\n"
     ]
    }
   ],
   "source": [
    "# we can create numpy arrays by converting lists\n",
    "# this is a vector\n",
    "vec = np.array([1,2,3])\n",
    "print(vec)\n",
    "# we can create matrices by converting lists of lists\n",
    "mat = np.array([[1,2,1],[4,5,9],[1,8,9]])\n",
    "print('')\n",
    "print(mat)\n",
    "print('')\n",
    "print(mat.T)"
   ]
  },
  {
   "cell_type": "code",
   "execution_count": 4,
   "metadata": {},
   "outputs": [
    {
     "name": "stdout",
     "output_type": "stream",
     "text": [
      "[ 0  1  2  3  4  5  6  7  8  9 10 11 12 13 14]\n",
      "\n",
      "[ 3  9 15]\n"
     ]
    }
   ],
   "source": [
    "# there are lots of other ways to create numpy arrays\n",
    "vec2 = np.arange(0,15)\n",
    "print(vec2)\n",
    "print('')\n",
    "vec3 = np.arange(3,21,6)\n",
    "print(vec3)\n"
   ]
  },
  {
   "cell_type": "code",
   "execution_count": 5,
   "metadata": {},
   "outputs": [
    {
     "name": "stdout",
     "output_type": "stream",
     "text": [
      "[0.         0.55555556 1.11111111 1.66666667 2.22222222 2.77777778\n",
      " 3.33333333 3.88888889 4.44444444 5.        ]\n",
      "\n",
      "[[0.         0.55555556]\n",
      " [1.11111111 1.66666667]\n",
      " [2.22222222 2.77777778]\n",
      " [3.33333333 3.88888889]\n",
      " [4.44444444 5.        ]]\n",
      "[[0.         0.55555556]\n",
      " [1.11111111 1.66666667]\n",
      " [2.22222222 2.77777778]\n",
      " [3.33333333 3.88888889]\n",
      " [4.44444444 5.        ]]\n",
      "[0.         0.55555556 1.11111111 1.66666667 2.22222222 2.77777778\n",
      " 3.33333333 3.88888889 4.44444444 5.        ]\n"
     ]
    }
   ],
   "source": [
    "\n",
    "vec4 = np.linspace(0,5,10)\n",
    "print(vec4)\n",
    "print('')\n",
    "print(vec4.reshape(5,2))\n",
    "vec4_reshaped = vec4.reshape(5,2)\n",
    "print(vec4_reshaped)\n",
    "print(vec4)"
   ]
  },
  {
   "cell_type": "code",
   "execution_count": 6,
   "metadata": {},
   "outputs": [
    {
     "name": "stdout",
     "output_type": "stream",
     "text": [
      "[[0. 0. 0.]\n",
      " [0. 0. 0.]\n",
      " [0. 0. 0.]\n",
      " [0. 0. 0.]\n",
      " [0. 0. 0.]]\n",
      "\n",
      "[[1. 1. 1. 1. 1.]\n",
      " [1. 1. 1. 1. 1.]\n",
      " [1. 1. 1. 1. 1.]]\n",
      "\n",
      "[[1. 0. 0. 0. 0.]\n",
      " [0. 1. 0. 0. 0.]\n",
      " [0. 0. 1. 0. 0.]\n",
      " [0. 0. 0. 1. 0.]\n",
      " [0. 0. 0. 0. 1.]]\n"
     ]
    }
   ],
   "source": [
    "mat2 = np.zeros([5,3])\n",
    "print(mat2)\n",
    "mat3 = np.ones((3,5))\n",
    "print('')\n",
    "print(mat3)\n",
    "mat4 = np.eye(5)\n",
    "print('')\n",
    "print(mat4)"
   ]
  },
  {
   "cell_type": "code",
   "execution_count": 7,
   "metadata": {},
   "outputs": [
    {
     "name": "stdout",
     "output_type": "stream",
     "text": [
      "[1 2 3 4 5]\n",
      "[3 4 5 6 7]\n",
      "[ 4  6  8 10 12]\n",
      "[ 3  8 15 24 35]\n",
      "[1.         0.5        0.33333333 0.25       0.2       ]\n",
      "[1.73205081 2.         2.23606798 2.44948974 2.64575131]\n"
     ]
    }
   ],
   "source": [
    "# we can +-*/ arrays together if they're the right size\n",
    "vec5 = np.arange(1,6)\n",
    "vec6 = np.arange(3,8)\n",
    "print(vec5)\n",
    "print(vec6)\n",
    "print(vec5+vec6)\n",
    "print(vec5*vec6)\n",
    "print(1/vec5)\n",
    "print(np.sqrt(vec6))"
   ]
  },
  {
   "cell_type": "code",
   "execution_count": 8,
   "metadata": {},
   "outputs": [
    {
     "name": "stdout",
     "output_type": "stream",
     "text": [
      "[[1 2 1]\n",
      " [4 5 9]\n",
      " [1 8 9]]\n",
      "\n",
      "[1 2 3]\n",
      "\n",
      "[ 8 41 44]\n"
     ]
    }
   ],
   "source": [
    "# we can do matrix multiplication\n",
    "print(mat)\n",
    "print('')\n",
    "print(vec)\n",
    "print()\n",
    "product = np.matmul(mat,vec)\n",
    "print(product)"
   ]
  },
  {
   "cell_type": "code",
   "execution_count": 9,
   "metadata": {},
   "outputs": [
    {
     "name": "stdout",
     "output_type": "stream",
     "text": [
      "[1. 2. 3.]\n",
      "\n",
      "[[ 0.5         0.18518519 -0.24074074]\n",
      " [ 0.5        -0.14814815  0.09259259]\n",
      " [-0.5         0.11111111  0.05555556]]\n"
     ]
    }
   ],
   "source": [
    "print(np.linalg.solve(mat,product))\n",
    "print('')\n",
    "print(np.linalg.inv(mat))"
   ]
  },
  {
   "cell_type": "code",
   "execution_count": 10,
   "metadata": {},
   "outputs": [
    {
     "name": "stdout",
     "output_type": "stream",
     "text": [
      "['blue' 'red' 'orange' 'purple' 'purple' 'orange' 'Red' '6']\n",
      "['6' 'Red' 'blue' 'orange' 'purple' 'red']\n"
     ]
    }
   ],
   "source": [
    "# we can find the unique values in an array\n",
    "vec7 = np.array(['blue','red','orange','purple','purple','orange','Red',6])\n",
    "print(vec7)\n",
    "print(np.unique(vec7))"
   ]
  },
  {
   "cell_type": "code",
   "execution_count": 11,
   "metadata": {},
   "outputs": [
    {
     "name": "stdout",
     "output_type": "stream",
     "text": [
      "[[0.56648173 0.57525026 0.21772357 0.8560376  0.34833551]\n",
      " [0.16408508 0.33230965 0.37536186 0.11525596 0.11032354]\n",
      " [0.75865021 0.84931679 0.98223333 0.15649232 0.82282033]\n",
      " [0.42314158 0.04074405 0.37031034 0.1529982  0.90434598]\n",
      " [0.92960288 0.16667406 0.31704137 0.01025448 0.68425227]]\n",
      "\n",
      "[[ 0.24767603 -0.3903775   0.31336765 -0.29344641 -1.52663717]\n",
      " [-1.16755015  1.29027034  0.65929044  0.0854544  -0.80995222]\n",
      " [ 0.37504327  0.16716451 -0.25493818  0.93909139  1.15588018]\n",
      " [-2.54686642 -2.26654391 -1.32442999  1.60543944 -0.25915639]\n",
      " [-0.20640823 -0.26129201 -0.00504247  0.84583267 -1.37673011]\n",
      " [ 0.17936266  1.18467218  0.40154167 -1.57658851  0.80964308]\n",
      " [ 1.42258476 -0.65644346  0.48077832  0.74644394  0.3897596 ]\n",
      " [-1.35338148  0.45457233 -2.53234825 -0.23840845  1.08147922]\n",
      " [ 1.07087919  0.7536072   0.11520541  0.93715368 -0.24910259]\n",
      " [ 3.60172754  0.97063524  0.97071434 -2.25926026 -0.45958852]]\n"
     ]
    }
   ],
   "source": [
    "# we can also use numpy to generate samples of a random variable\n",
    "rand_mat = np.random.rand(5,5) # uniform random variable\n",
    "print(rand_mat)\n",
    "rand_mat2 = np.random.randn(10,5) # standard normal random variable\n",
    "print('')\n",
    "print(rand_mat2)"
   ]
  },
  {
   "cell_type": "code",
   "execution_count": 12,
   "metadata": {},
   "outputs": [
    {
     "name": "stdout",
     "output_type": "stream",
     "text": [
      "0.4492017190588261\n",
      "1.1719266973326894\n"
     ]
    }
   ],
   "source": [
    "# we can also use numpy for statistical tools on arrays\n",
    "print(np.mean(rand_mat))\n",
    "print(np.std(rand_mat2))"
   ]
  },
  {
   "cell_type": "code",
   "execution_count": 13,
   "metadata": {},
   "outputs": [
    {
     "name": "stdout",
     "output_type": "stream",
     "text": [
      "0.010254483643500567\n",
      "3.6017275425619424\n"
     ]
    }
   ],
   "source": [
    "print(np.min(rand_mat))\n",
    "print(np.max(rand_mat2))"
   ]
  },
  {
   "cell_type": "code",
   "execution_count": 14,
   "metadata": {},
   "outputs": [],
   "source": [
    "# break here for next video!"
   ]
  },
  {
   "cell_type": "code",
   "execution_count": 15,
   "metadata": {},
   "outputs": [
    {
     "name": "stdout",
     "output_type": "stream",
     "text": [
      "[ 0.17203268  0.24128495 -0.34253239  1.03023487 -0.00932064  0.26187282\n",
      " -0.8088498  -0.98184431  0.29676974  0.69715431 -0.47361636 -0.39443966\n",
      "  1.42323363 -0.40167291 -1.80152525 -2.03912067  0.0958742  -1.13912123\n",
      "  0.22707992]\n",
      "-0.8088497986122875\n"
     ]
    }
   ],
   "source": [
    "# how do we access entries in a numpy vector\n",
    "rand_vec = np.random.randn(19)\n",
    "print(rand_vec)\n",
    "print(rand_vec[6])"
   ]
  },
  {
   "cell_type": "code",
   "execution_count": 16,
   "metadata": {},
   "outputs": [
    {
     "name": "stdout",
     "output_type": "stream",
     "text": [
      "[-0.00932064  0.26187282 -0.8088498  -0.98184431  0.29676974]\n"
     ]
    }
   ],
   "source": [
    "# we can access multiple entries at once using :\n",
    "print(rand_vec[4:9])"
   ]
  },
  {
   "cell_type": "code",
   "execution_count": 17,
   "metadata": {},
   "outputs": [
    {
     "name": "stdout",
     "output_type": "stream",
     "text": [
      "[ 0  3  6  9 12]\n",
      "[ 0.17203268  1.03023487 -0.8088498   0.69715431  1.42323363]\n"
     ]
    }
   ],
   "source": [
    "# we can also access multiple non-consecutive entries using np.arange\n",
    "print(np.arange(0,15,3))\n",
    "print(rand_vec[np.arange(0,15,3)])"
   ]
  },
  {
   "cell_type": "code",
   "execution_count": 18,
   "metadata": {},
   "outputs": [
    {
     "name": "stdout",
     "output_type": "stream",
     "text": [
      "[[0.56648173 0.57525026 0.21772357 0.8560376  0.34833551]\n",
      " [0.16408508 0.33230965 0.37536186 0.11525596 0.11032354]\n",
      " [0.75865021 0.84931679 0.98223333 0.15649232 0.82282033]\n",
      " [0.42314158 0.04074405 0.37031034 0.1529982  0.90434598]\n",
      " [0.92960288 0.16667406 0.31704137 0.01025448 0.68425227]]\n",
      "0.37536185544619716\n",
      "0.37536185544619716\n"
     ]
    }
   ],
   "source": [
    "# what about matrices\n",
    "print(rand_mat)\n",
    "print(rand_mat[1][2])\n",
    "print(rand_mat[1,2])\n"
   ]
  },
  {
   "cell_type": "code",
   "execution_count": 19,
   "metadata": {},
   "outputs": [
    {
     "name": "stdout",
     "output_type": "stream",
     "text": [
      "[[0.57525026 0.21772357]\n",
      " [0.33230965 0.37536186]]\n"
     ]
    }
   ],
   "source": [
    "print(rand_mat[0:2,1:3])"
   ]
  },
  {
   "cell_type": "code",
   "execution_count": 20,
   "metadata": {},
   "outputs": [
    {
     "name": "stdout",
     "output_type": "stream",
     "text": [
      "[ 0.17203268  0.24128495 -0.34253239  1.03023487 -0.00932064  0.26187282\n",
      " -0.8088498  -0.98184431  0.29676974  0.69715431 -0.47361636 -0.39443966\n",
      "  1.42323363 -0.40167291 -1.80152525 -2.03912067  0.0958742  -1.13912123\n",
      "  0.22707992]\n",
      "\n",
      "[ 0.17203268  0.24128495 -0.34253239  4.          4.          0.26187282\n",
      " -0.8088498  -0.98184431  0.29676974  0.69715431 -0.47361636 -0.39443966\n",
      "  1.42323363 -0.40167291 -1.80152525 -2.03912067  0.0958742  -1.13912123\n",
      "  0.22707992]\n",
      "\n",
      "[ 0.17203268  0.24128495 -0.34253239  1.          2.          0.26187282\n",
      " -0.8088498  -0.98184431  0.29676974  0.69715431 -0.47361636 -0.39443966\n",
      "  1.42323363 -0.40167291 -1.80152525 -2.03912067  0.0958742  -1.13912123\n",
      "  0.22707992]\n"
     ]
    }
   ],
   "source": [
    "# let's change some values in an array!\n",
    "print(rand_vec)\n",
    "rand_vec[3:5] = 4\n",
    "print('')\n",
    "print(rand_vec)\n",
    "rand_vec[3:5] = [1,2]\n",
    "print('')\n",
    "print(rand_vec)"
   ]
  },
  {
   "cell_type": "code",
   "execution_count": 21,
   "metadata": {},
   "outputs": [
    {
     "name": "stdout",
     "output_type": "stream",
     "text": [
      "[[0.56648173 0.57525026 0.21772357 0.8560376  0.34833551]\n",
      " [0.16408508 0.33230965 0.37536186 0.11525596 0.11032354]\n",
      " [0.75865021 0.84931679 0.98223333 0.15649232 0.82282033]\n",
      " [0.42314158 0.04074405 0.37031034 0.1529982  0.90434598]\n",
      " [0.92960288 0.16667406 0.31704137 0.01025448 0.68425227]]\n",
      "\n",
      "[[0.56648173 0.57525026 0.21772357 0.8560376  0.34833551]\n",
      " [0.16408508 0.33230965 0.37536186 0.         0.        ]\n",
      " [0.75865021 0.84931679 0.98223333 0.         0.        ]\n",
      " [0.42314158 0.04074405 0.37031034 0.1529982  0.90434598]\n",
      " [0.92960288 0.16667406 0.31704137 0.01025448 0.68425227]]\n"
     ]
    }
   ],
   "source": [
    "print(rand_mat)\n",
    "rand_mat[1:3,3:5] = 0\n",
    "print('')\n",
    "print(rand_mat)"
   ]
  },
  {
   "cell_type": "code",
   "execution_count": 22,
   "metadata": {},
   "outputs": [
    {
     "name": "stdout",
     "output_type": "stream",
     "text": [
      "[[0.56648173 0.57525026 0.21772357]\n",
      " [0.16408508 0.33230965 0.37536186]]\n",
      "[[3. 3. 3.]\n",
      " [3. 3. 3.]]\n"
     ]
    }
   ],
   "source": [
    "sub_mat = rand_mat[0:2,0:3]\n",
    "print(sub_mat)\n",
    "sub_mat[:] = 3\n",
    "print(sub_mat)\n"
   ]
  },
  {
   "cell_type": "code",
   "execution_count": 23,
   "metadata": {},
   "outputs": [
    {
     "name": "stdout",
     "output_type": "stream",
     "text": [
      "[[3.         3.         3.         0.8560376  0.34833551]\n",
      " [3.         3.         3.         0.         0.        ]\n",
      " [0.75865021 0.84931679 0.98223333 0.         0.        ]\n",
      " [0.42314158 0.04074405 0.37031034 0.1529982  0.90434598]\n",
      " [0.92960288 0.16667406 0.31704137 0.01025448 0.68425227]]\n"
     ]
    }
   ],
   "source": [
    "print(rand_mat)"
   ]
  },
  {
   "cell_type": "code",
   "execution_count": 24,
   "metadata": {},
   "outputs": [
    {
     "name": "stdout",
     "output_type": "stream",
     "text": [
      "[[99. 99. 99.]\n",
      " [99. 99. 99.]]\n",
      "[[3.         3.         3.         0.8560376  0.34833551]\n",
      " [3.         3.         3.         0.         0.        ]\n",
      " [0.75865021 0.84931679 0.98223333 0.         0.        ]\n",
      " [0.42314158 0.04074405 0.37031034 0.1529982  0.90434598]\n",
      " [0.92960288 0.16667406 0.31704137 0.01025448 0.68425227]]\n"
     ]
    }
   ],
   "source": [
    "sub_mat2 = rand_mat[0:2,0:3].copy()\n",
    "sub_mat2[:] = 99\n",
    "print(sub_mat2)\n",
    "print(rand_mat)\n"
   ]
  },
  {
   "cell_type": "code",
   "execution_count": 25,
   "metadata": {},
   "outputs": [],
   "source": [
    "# break here for next video"
   ]
  },
  {
   "cell_type": "code",
   "execution_count": 26,
   "metadata": {},
   "outputs": [
    {
     "name": "stdout",
     "output_type": "stream",
     "text": [
      "[ 0.96461532  0.12772804  0.1883827   0.47527416  0.0746983   0.25876041\n",
      " -0.15720421  0.23837439  1.06363383 -0.88688253  2.44228023 -1.27396056\n",
      " -1.06478304 -0.40273077 -2.72598353]\n",
      "[ True  True  True  True  True  True False  True  True False  True False\n",
      " False False False]\n",
      "[0.96461532 0.12772804 0.1883827  0.47527416 0.0746983  0.25876041\n",
      " 0.23837439 1.06363383 2.44228023]\n"
     ]
    }
   ],
   "source": [
    "# we can also access entries with logicals\n",
    "rand_vec = np.random.randn(15)\n",
    "\n",
    "print(rand_vec)\n",
    "print(rand_vec>0)\n",
    "print(rand_vec[rand_vec>0])"
   ]
  },
  {
   "cell_type": "code",
   "execution_count": 27,
   "metadata": {},
   "outputs": [
    {
     "name": "stdout",
     "output_type": "stream",
     "text": [
      "[[ 0.24767603 -0.3903775   0.31336765 -0.29344641 -1.52663717]\n",
      " [-1.16755015  1.29027034  0.65929044  0.0854544  -0.80995222]\n",
      " [ 0.37504327  0.16716451 -0.25493818  0.93909139  1.15588018]\n",
      " [-2.54686642 -2.26654391 -1.32442999  1.60543944 -0.25915639]\n",
      " [-0.20640823 -0.26129201 -0.00504247  0.84583267 -1.37673011]\n",
      " [ 0.17936266  1.18467218  0.40154167 -1.57658851  0.80964308]\n",
      " [ 1.42258476 -0.65644346  0.48077832  0.74644394  0.3897596 ]\n",
      " [-1.35338148  0.45457233 -2.53234825 -0.23840845  1.08147922]\n",
      " [ 1.07087919  0.7536072   0.11520541  0.93715368 -0.24910259]\n",
      " [ 3.60172754  0.97063524  0.97071434 -2.25926026 -0.45958852]]\n",
      "[0.24767603 0.31336765 1.29027034 0.65929044 0.0854544  0.37504327\n",
      " 0.16716451 0.93909139 1.15588018 1.60543944 0.84583267 0.17936266\n",
      " 1.18467218 0.40154167 0.80964308 1.42258476 0.48077832 0.74644394\n",
      " 0.3897596  0.45457233 1.08147922 1.07087919 0.7536072  0.11520541\n",
      " 0.93715368 3.60172754 0.97063524 0.97071434]\n"
     ]
    }
   ],
   "source": [
    "print(rand_mat2)\n",
    "print(rand_mat2[rand_mat2>0])"
   ]
  },
  {
   "cell_type": "code",
   "execution_count": 28,
   "metadata": {},
   "outputs": [
    {
     "name": "stdout",
     "output_type": "stream",
     "text": [
      "[ 0.96461532  0.12772804  0.1883827   0.47527416  0.0746983   0.25876041\n",
      " -0.15720421  0.23837439  1.06363383 -0.88688253  2.44228023 -1.27396056\n",
      " -1.06478304 -0.40273077 -2.72598353]\n",
      "\n",
      "[-5.          0.12772804  0.1883827   0.47527416  0.0746983   0.25876041\n",
      " -0.15720421  0.23837439 -5.         -0.88688253 -5.         -1.27396056\n",
      " -1.06478304 -0.40273077 -2.72598353]\n"
     ]
    }
   ],
   "source": [
    "\n",
    "print(rand_vec)\n",
    "print('')\n",
    "rand_vec[rand_vec>0.5] = -5\n",
    "print(rand_vec)"
   ]
  },
  {
   "cell_type": "code",
   "execution_count": 29,
   "metadata": {},
   "outputs": [],
   "source": [
    "# let's save some arrays on the disk for use later!\n",
    "np.save('saved_file_name',rand_mat2)\n"
   ]
  },
  {
   "cell_type": "code",
   "execution_count": 30,
   "metadata": {},
   "outputs": [],
   "source": [
    "np.savez('zipped_file_name',rand_mat=rand_mat,rand_mat2=rand_mat2)"
   ]
  },
  {
   "cell_type": "code",
   "execution_count": 31,
   "metadata": {},
   "outputs": [
    {
     "name": "stdout",
     "output_type": "stream",
     "text": [
      "[[ 0.24767603 -0.3903775   0.31336765 -0.29344641 -1.52663717]\n",
      " [-1.16755015  1.29027034  0.65929044  0.0854544  -0.80995222]\n",
      " [ 0.37504327  0.16716451 -0.25493818  0.93909139  1.15588018]\n",
      " [-2.54686642 -2.26654391 -1.32442999  1.60543944 -0.25915639]\n",
      " [-0.20640823 -0.26129201 -0.00504247  0.84583267 -1.37673011]\n",
      " [ 0.17936266  1.18467218  0.40154167 -1.57658851  0.80964308]\n",
      " [ 1.42258476 -0.65644346  0.48077832  0.74644394  0.3897596 ]\n",
      " [-1.35338148  0.45457233 -2.53234825 -0.23840845  1.08147922]\n",
      " [ 1.07087919  0.7536072   0.11520541  0.93715368 -0.24910259]\n",
      " [ 3.60172754  0.97063524  0.97071434 -2.25926026 -0.45958852]]\n",
      "\n",
      "<numpy.lib.npyio.NpzFile object at 0x7fe6f0487fd0>\n"
     ]
    }
   ],
   "source": [
    "# now let's load it\n",
    "loaded_vec = np.load('saved_file_name.npy')\n",
    "loaded_zip = np.load('zipped_file_name.npz')\n",
    "\n",
    "print(loaded_vec)\n",
    "print('')\n",
    "print(loaded_zip)"
   ]
  },
  {
   "cell_type": "code",
   "execution_count": 32,
   "metadata": {},
   "outputs": [
    {
     "name": "stdout",
     "output_type": "stream",
     "text": [
      "[[3.         3.         3.         0.8560376  0.34833551]\n",
      " [3.         3.         3.         0.         0.        ]\n",
      " [0.75865021 0.84931679 0.98223333 0.         0.        ]\n",
      " [0.42314158 0.04074405 0.37031034 0.1529982  0.90434598]\n",
      " [0.92960288 0.16667406 0.31704137 0.01025448 0.68425227]]\n",
      "\n",
      "[[ 0.24767603 -0.3903775   0.31336765 -0.29344641 -1.52663717]\n",
      " [-1.16755015  1.29027034  0.65929044  0.0854544  -0.80995222]\n",
      " [ 0.37504327  0.16716451 -0.25493818  0.93909139  1.15588018]\n",
      " [-2.54686642 -2.26654391 -1.32442999  1.60543944 -0.25915639]\n",
      " [-0.20640823 -0.26129201 -0.00504247  0.84583267 -1.37673011]\n",
      " [ 0.17936266  1.18467218  0.40154167 -1.57658851  0.80964308]\n",
      " [ 1.42258476 -0.65644346  0.48077832  0.74644394  0.3897596 ]\n",
      " [-1.35338148  0.45457233 -2.53234825 -0.23840845  1.08147922]\n",
      " [ 1.07087919  0.7536072   0.11520541  0.93715368 -0.24910259]\n",
      " [ 3.60172754  0.97063524  0.97071434 -2.25926026 -0.45958852]]\n",
      "[[3.         3.         3.         0.8560376  0.34833551]\n",
      " [3.         3.         3.         0.         0.        ]\n",
      " [0.75865021 0.84931679 0.98223333 0.         0.        ]\n",
      " [0.42314158 0.04074405 0.37031034 0.1529982  0.90434598]\n",
      " [0.92960288 0.16667406 0.31704137 0.01025448 0.68425227]]\n"
     ]
    }
   ],
   "source": [
    "print(loaded_zip['rand_mat'])\n",
    "print('')\n",
    "print(loaded_zip['rand_mat2'])\n",
    "\n",
    "new_array  = loaded_zip['rand_mat']\n",
    "print(new_array)"
   ]
  },
  {
   "cell_type": "code",
   "execution_count": 33,
   "metadata": {},
   "outputs": [
    {
     "name": "stdout",
     "output_type": "stream",
     "text": [
      "[[3.         3.         3.         0.8560376  0.34833551]\n",
      " [3.         3.         3.         0.         0.        ]\n",
      " [0.75865021 0.84931679 0.98223333 0.         0.        ]\n",
      " [0.42314158 0.04074405 0.37031034 0.1529982  0.90434598]\n",
      " [0.92960288 0.16667406 0.31704137 0.01025448 0.68425227]]\n",
      "\n",
      "[[3.         3.         3.         0.8560376  0.34833551]\n",
      " [3.         3.         3.         0.         0.        ]\n",
      " [0.75865021 0.84931679 0.98223333 0.         0.        ]\n",
      " [0.42314158 0.04074405 0.37031034 0.1529982  0.90434598]\n",
      " [0.92960288 0.16667406 0.31704137 0.01025448 0.68425227]]\n"
     ]
    }
   ],
   "source": [
    "# we can also save/load as text files...but only single variables\n",
    "np.savetxt('text_file_name.txt',rand_mat,delimiter=',')\n",
    "rand_mat_txt = np.loadtxt('text_file_name.txt',delimiter=',')\n",
    "print(rand_mat)\n",
    "print('')\n",
    "print(rand_mat_txt)"
   ]
  },
  {
   "cell_type": "code",
   "execution_count": null,
   "metadata": {},
   "outputs": [],
   "source": []
  },
  {
   "cell_type": "code",
   "execution_count": null,
   "metadata": {},
   "outputs": [],
   "source": []
  },
  {
   "cell_type": "code",
   "execution_count": null,
   "metadata": {},
   "outputs": [],
   "source": []
  },
  {
   "cell_type": "code",
   "execution_count": null,
   "metadata": {},
   "outputs": [],
   "source": []
  }
 ],
 "metadata": {
  "kernelspec": {
   "display_name": "Python 3",
   "language": "python",
   "name": "python3"
  },
  "language_info": {
   "codemirror_mode": {
    "name": "ipython",
    "version": 3
   },
   "file_extension": ".py",
   "mimetype": "text/x-python",
   "name": "python",
   "nbconvert_exporter": "python",
   "pygments_lexer": "ipython3",
   "version": "3.9.2"
  }
 },
 "nbformat": 4,
 "nbformat_minor": 2
}
